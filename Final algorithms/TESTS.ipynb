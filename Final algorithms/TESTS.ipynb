{
 "metadata": {
  "language_info": {
   "codemirror_mode": {
    "name": "ipython",
    "version": 3
   },
   "file_extension": ".py",
   "mimetype": "text/x-python",
   "name": "python",
   "nbconvert_exporter": "python",
   "pygments_lexer": "ipython3",
   "version": "3.9.5"
  },
  "orig_nbformat": 4,
  "kernelspec": {
   "name": "python3",
   "display_name": "Python 3.9.5 64-bit ('torch': conda)"
  },
  "interpreter": {
   "hash": "fef537ac494cdbbc31088862472f9b6fc2de5b0853fa06b655145b81d2845540"
  }
 },
 "nbformat": 4,
 "nbformat_minor": 2,
 "cells": [
  {
   "source": [
    "## REGRESSION TESTS WITH SKLEARN"
   ],
   "cell_type": "markdown",
   "metadata": {}
  },
  {
   "source": [
    "#### Getting the data for the tests"
   ],
   "cell_type": "markdown",
   "metadata": {}
  },
  {
   "cell_type": "code",
   "execution_count": 1,
   "metadata": {},
   "outputs": [],
   "source": [
    "from sklearn.datasets import make_regression\n",
    "from sklearn.model_selection import train_test_split\n",
    "\n",
    "n_features = 10\n",
    "X, y = make_regression(n_samples=600, n_features=n_features, noise=20, random_state=4)\n",
    "X_train, X_test, y_train, y_test = train_test_split(X, y, test_size=0.2, random_state=1234)"
   ]
  },
  {
   "source": [
    "### Comparing the Simple Regression class of ours and Sklearns"
   ],
   "cell_type": "markdown",
   "metadata": {}
  },
  {
   "cell_type": "code",
   "execution_count": 2,
   "metadata": {},
   "outputs": [
    {
     "output_type": "stream",
     "name": "stdout",
     "text": [
      "TEST DATA LOSS OF OUR MODEL:  [[281.13888692]]\nTEST DATA LOSS OF OUR SKLEARN's:  [[280.79610222]]\n"
     ]
    }
   ],
   "source": [
    "import Regression as r \n",
    "import sklearn.linear_model as lm \n",
    "\n",
    "# our method\n",
    "regressor_r = r.LinearRegression(X_train, y_train)\n",
    "regressor_r.train(epochs=200, learning_rate=0.03)\n",
    "\n",
    "# sklearn's method\n",
    "regressor_lm = lm.LinearRegression().fit(X_train, y_train)\n",
    "\n",
    "print(\"TEST DATA LOSS OF OUR MODEL: \", regressor_r.loss(regressor_r.predict(X_test), y_test))\n",
    "print(\"TEST DATA LOSS OF OUR SKLEARN's: \", regressor_r.loss(regressor_lm.predict(X_test), y_test))"
   ]
  },
  {
   "source": [
    "### Comparing the Polynomial Regression class of ours and Sklearns"
   ],
   "cell_type": "markdown",
   "metadata": {}
  },
  {
   "cell_type": "code",
   "execution_count": 3,
   "metadata": {},
   "outputs": [
    {
     "output_type": "execute_result",
     "data": {
      "text/plain": [
       "Pipeline(steps=[('polynomialfeatures', PolynomialFeatures()),\n",
       "                ('linearregression', LinearRegression())])"
      ]
     },
     "metadata": {},
     "execution_count": 3
    }
   ],
   "source": [
    "from sklearn.preprocessing import PolynomialFeatures\n",
    "from sklearn.pipeline import make_pipeline\n",
    "\n",
    "# our method\n",
    "pol_r = r.PolynomialRegression(X_train, y_train, 2)\n",
    "pol_r.train(epochs=300, learning_rate=0.03)\n",
    "\n",
    "# sklearn's method\n",
    "pl_lm = make_pipeline(PolynomialFeatures(2), lm.LinearRegression())\n",
    "pl_lm.fit(X_train, y_train)"
   ]
  },
  {
   "cell_type": "code",
   "execution_count": 4,
   "metadata": {},
   "outputs": [
    {
     "output_type": "stream",
     "name": "stdout",
     "text": [
      "TEST DATA LOSS OF OUR MODEL:  [[291.88749795]]\nTEST DATA LOSS OF OUR SKLEARN's:  [[291.48653518]]\n"
     ]
    }
   ],
   "source": [
    "preds_pol_r = pol_r.predict(X_test)\n",
    "preds_pol_lm = pl_lm.predict(X_test)\n",
    "\n",
    "print(\"TEST DATA LOSS OF OUR MODEL: \", pol_r.loss(preds_pol_r, y_test))\n",
    "print(\"TEST DATA LOSS OF OUR SKLEARN's: \", pol_r.loss(preds_pol_lm, y_test))"
   ]
  },
  {
   "source": [
    "### Comparing the Ridge Regression class of ours and Sklearns"
   ],
   "cell_type": "markdown",
   "metadata": {}
  },
  {
   "cell_type": "code",
   "execution_count": 5,
   "metadata": {},
   "outputs": [
    {
     "output_type": "stream",
     "name": "stdout",
     "text": [
      "TEST DATA LOSS OF OUR MODEL:  [[281.98128248]]\nTEST DATA LOSS OF OUR SKLEARN's:  [[280.79961173]]\n"
     ]
    }
   ],
   "source": [
    "# our method\n",
    "ridge_r = r.RidgeRegression(X_train, y_train, 0.0003)\n",
    "ridge_r.train(epochs=200, learning_rate=0.03)\n",
    "\n",
    "# sklearn's method\n",
    "ridge_lm = lm.Ridge(alpha=0.0003).fit(X_train, y_train)\n",
    "\n",
    "print(\"TEST DATA LOSS OF OUR MODEL: \", ridge_r.loss(ridge_r.predict(X_test), y_test))\n",
    "print(\"TEST DATA LOSS OF OUR SKLEARN's: \", ridge_r.loss(ridge_lm.predict(X_test), y_test))"
   ]
  },
  {
   "source": [
    "### Comparing the Ridge Regression class of ours and Sklearns"
   ],
   "cell_type": "markdown",
   "metadata": {}
  },
  {
   "cell_type": "code",
   "execution_count": 6,
   "metadata": {},
   "outputs": [
    {
     "output_type": "stream",
     "name": "stdout",
     "text": [
      "TEST DATA LOSS OF OUR MODEL:  [[281.15097638]]\nTEST DATA LOSS OF OUR SKLEARN's:  [[280.8193745]]\n"
     ]
    }
   ],
   "source": [
    "# our method\n",
    "lasso_r = r.LassoRegression(X_train, y_train, 0.0003)\n",
    "lasso_r.train(epochs=200, learning_rate=0.03)\n",
    "\n",
    "# sklearn's method\n",
    "lasso_lm = lm.Lasso(alpha=0.0003).fit(X_train, y_train)\n",
    "\n",
    "print(\"TEST DATA LOSS OF OUR MODEL: \", lasso_r.loss(lasso_r.predict(X_test), y_test))\n",
    "print(\"TEST DATA LOSS OF OUR SKLEARN's: \", lasso_r.loss(lasso_lm.predict(X_test), y_test))"
   ]
  },
  {
   "source": [
    "### Comparing the Elastic Regression class of ours and Sklearns"
   ],
   "cell_type": "markdown",
   "metadata": {}
  },
  {
   "cell_type": "code",
   "execution_count": 7,
   "metadata": {},
   "outputs": [
    {
     "output_type": "stream",
     "name": "stdout",
     "text": [
      "TEST DATA LOSS OF OUR MODEL:  [[281.43021531]]\nTEST DATA LOSS OF OUR SKLEARN's:  [[5090.2746201]]\n"
     ]
    }
   ],
   "source": [
    "# our method\n",
    "elastic_r = r.ElasticNetRegression(X_train, y_train, 0.0003, 0.0001)\n",
    "elastic_r.train(epochs=200, learning_rate=0.03)\n",
    "\n",
    "# sklearn's method\n",
    "elastic_lm = lm.ElasticNet(random_state=0).fit(X_train, y_train)\n",
    "\n",
    "print(\"TEST DATA LOSS OF OUR MODEL: \", elastic_r.loss(elastic_r.predict(X_test), y_test))\n",
    "print(\"TEST DATA LOSS OF OUR SKLEARN's: \", elastic_r.loss(elastic_lm.predict(X_test), y_test))"
   ]
  }
 ]
}