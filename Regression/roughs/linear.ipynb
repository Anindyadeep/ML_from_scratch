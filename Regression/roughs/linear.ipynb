{
 "metadata": {
  "language_info": {
   "codemirror_mode": {
    "name": "ipython",
    "version": 3
   },
   "file_extension": ".py",
   "mimetype": "text/x-python",
   "name": "python",
   "nbconvert_exporter": "python",
   "pygments_lexer": "ipython3",
   "version": "3.8.8"
  },
  "orig_nbformat": 4,
  "kernelspec": {
   "name": "python3",
   "display_name": "Python 3.8.8 64-bit ('base': conda)"
  },
  "interpreter": {
   "hash": "8ce319ef478153d53d4a15306b640d676021bc7db8371d844705b443ce1fe937"
  }
 },
 "nbformat": 4,
 "nbformat_minor": 2,
 "cells": [
  {
   "cell_type": "code",
   "execution_count": 1,
   "metadata": {},
   "outputs": [],
   "source": [
    "import numpy as np \n",
    "import pandas as pd \n",
    "import matplotlib.pyplot as plt \n"
   ]
  },
  {
   "cell_type": "code",
   "execution_count": 6,
   "metadata": {},
   "outputs": [
    {
     "output_type": "stream",
     "name": "stdout",
     "text": [
      "(10, 1)\n(1, 1)\n10\n"
     ]
    }
   ],
   "source": [
    "m = 10\n",
    "x = np.random.randn(m, 1)\n",
    "w = np.random.randn(1,1)\n",
    "\n",
    "print(x.shape)\n",
    "print(w.shape)\n",
    "print(len(x))"
   ]
  },
  {
   "cell_type": "code",
   "execution_count": 4,
   "metadata": {},
   "outputs": [],
   "source": [
    "if x.shape != (1,m):\n",
    "    x = x.reshape(1, m)"
   ]
  },
  {
   "cell_type": "code",
   "execution_count": 5,
   "metadata": {},
   "outputs": [
    {
     "output_type": "execute_result",
     "data": {
      "text/plain": [
       "(1, 10)"
      ]
     },
     "metadata": {},
     "execution_count": 5
    }
   ],
   "source": [
    "x.shape"
   ]
  },
  {
   "cell_type": "code",
   "execution_count": 24,
   "metadata": {},
   "outputs": [],
   "source": [
    "import numpy as np\n",
    "from numpy.core.fromnumeric import shape\n",
    "import pandas as pd\n",
    "import matplotlib.pyplot as plt\n",
    "\n",
    "class LinearRegression:\n",
    "    def __init__(self, X, y):\n",
    "        if X.shape != (1,len(X)):\n",
    "            self.X = X.T\n",
    "            self.y = y.T\n",
    "        else:\n",
    "            self.X = X\n",
    "            self.y = y\n",
    "\n",
    "        self.W = np.random.randn(1,1)\n",
    "        self.b = np.zeros(shape=(1,1))\n",
    "        self.predictions = 0\n",
    "        self.loss = 0\n",
    "    \n",
    "    def predict(self):\n",
    "        m = len(self.X)\n",
    "        self.predictions = np.dot(self.W, self.X) + self.b\n",
    "        return self.predictions\n",
    "    \n",
    "    def MSE(self):\n",
    "        m = len(self.X)\n",
    "        mse = 1/(2*m) * (np.sum((self.y-self.predictions), axis=1, keepdims=True))\n",
    "        self.loss = mse\n",
    "        return self.loss"
   ]
  },
  {
   "cell_type": "code",
   "execution_count": 25,
   "metadata": {},
   "outputs": [],
   "source": [
    "X = np.random.randn(100,1)\n",
    "y = np.random.randint(2, size=(100,1))"
   ]
  },
  {
   "cell_type": "code",
   "execution_count": 26,
   "metadata": {},
   "outputs": [],
   "source": [
    "slr = LinearRegression(X, y)"
   ]
  },
  {
   "cell_type": "code",
   "execution_count": 27,
   "metadata": {},
   "outputs": [],
   "source": [
    "pred = slr.predict()"
   ]
  },
  {
   "cell_type": "code",
   "execution_count": 29,
   "metadata": {},
   "outputs": [
    {
     "output_type": "execute_result",
     "data": {
      "text/plain": [
       "array([[22.28467348]])"
      ]
     },
     "metadata": {},
     "execution_count": 29
    }
   ],
   "source": [
    "slr.MSE()"
   ]
  },
  {
   "cell_type": "code",
   "execution_count": 30,
   "metadata": {},
   "outputs": [
    {
     "output_type": "execute_result",
     "data": {
      "text/plain": [
       "array([[22.28467348]])"
      ]
     },
     "metadata": {},
     "execution_count": 30
    }
   ],
   "source": [
    "slr.loss"
   ]
  },
  {
   "cell_type": "code",
   "execution_count": 34,
   "metadata": {},
   "outputs": [
    {
     "output_type": "execute_result",
     "data": {
      "text/plain": [
       "(1, 100)"
      ]
     },
     "metadata": {},
     "execution_count": 34
    }
   ],
   "source": [
    "(slr.b * X.T).shape"
   ]
  },
  {
   "cell_type": "code",
   "execution_count": 38,
   "metadata": {},
   "outputs": [
    {
     "output_type": "execute_result",
     "data": {
      "text/plain": [
       "(1, 100)"
      ]
     },
     "metadata": {},
     "execution_count": 38
    }
   ],
   "source": [
    "np.dot((slr.W), X.T ** 2).shape"
   ]
  },
  {
   "cell_type": "code",
   "execution_count": 39,
   "metadata": {},
   "outputs": [
    {
     "output_type": "execute_result",
     "data": {
      "text/plain": [
       "(1, 100)"
      ]
     },
     "metadata": {},
     "execution_count": 39
    }
   ],
   "source": [
    "(X.T ** 2).shape"
   ]
  },
  {
   "cell_type": "code",
   "execution_count": 45,
   "metadata": {},
   "outputs": [
    {
     "output_type": "execute_result",
     "data": {
      "text/plain": [
       "(1, 1)"
      ]
     },
     "metadata": {},
     "execution_count": 45
    }
   ],
   "source": [
    "(np.sum(((slr.X*slr.y) - np.dot(slr.W, slr.X**2) + slr.b * slr.X), axis=1, keepdims=True)).shape"
   ]
  },
  {
   "cell_type": "code",
   "execution_count": 46,
   "metadata": {},
   "outputs": [
    {
     "output_type": "execute_result",
     "data": {
      "text/plain": [
       "array([[44.56934697]])"
      ]
     },
     "metadata": {},
     "execution_count": 46
    }
   ],
   "source": [
    "(np.sum((slr.y - (np.dot(slr.W, slr.X) + slr.b)), axis=1, keepdims=True))"
   ]
  },
  {
   "cell_type": "code",
   "execution_count": null,
   "metadata": {},
   "outputs": [],
   "source": [
    "        m = len(self.X)\n",
    "        X_bar = 1/m * (np.sum(self.X, axis=1, keepdims=True))\n",
    "        y_bar = 1/m * (np.sum(self.y, axis=1, keepdims=True))\n",
    "\n",
    "        numerator = (X_bar * y_bar) - (1/m * np.sum(self.y * self.X, axis = 1, keepdims=True))\n",
    "        denominator = (self.X ** 2) - (1/m * np.sum(self.X ** 2, axis=1, keepdims=True))\n",
    "\n",
    "        W_opt = np.divide(numerator, denominator)\n",
    "        b_opt = y_bar - (W_opt * X_bar)\n",
    "\n",
    "        loss_opt = 1/m * (np.sum(self.y - (np.dot(W_opt, self.X) + b_opt), axis=1, keepdims=True))\n",
    "        return loss_opt"
   ]
  },
  {
   "cell_type": "code",
   "execution_count": 48,
   "metadata": {},
   "outputs": [
    {
     "output_type": "stream",
     "name": "stdout",
     "text": [
      "(1, 100)\n(1, 100)\n"
     ]
    }
   ],
   "source": [
    "X = X.T\n",
    "y = y.T\n",
    "\n",
    "print(X.shape)\n",
    "print(y.shape)"
   ]
  },
  {
   "cell_type": "code",
   "execution_count": 49,
   "metadata": {},
   "outputs": [
    {
     "output_type": "stream",
     "name": "stdout",
     "text": [
      "(1, 1)\n(1, 1)\n"
     ]
    }
   ],
   "source": [
    "m = len(X)\n",
    "x_bar = 1/m * (np.sum(X, axis=1, keepdims=True))\n",
    "y_bar = 1/m * (np.sum(y, axis=1, keepdims=True))\n",
    "\n",
    "print(x_bar.shape)\n",
    "print(y_bar.shape)"
   ]
  },
  {
   "cell_type": "code",
   "execution_count": 52,
   "metadata": {},
   "outputs": [
    {
     "output_type": "stream",
     "name": "stdout",
     "text": [
      "(1, 1)\n(1, 1)\n"
     ]
    }
   ],
   "source": [
    "numerator = (x_bar * y_bar) - (1/m * np.sum(y * X, axis = 1, keepdims=True))\n",
    "denominator = (x_bar ** 2) - (1/m * np.sum(X ** 2, axis=1, keepdims=True))\n",
    "\n",
    "print(numerator.shape)\n",
    "print(denominator.shape)"
   ]
  },
  {
   "cell_type": "code",
   "execution_count": 54,
   "metadata": {},
   "outputs": [
    {
     "output_type": "execute_result",
     "data": {
      "text/plain": [
       "(1, 1)"
      ]
     },
     "metadata": {},
     "execution_count": 54
    }
   ],
   "source": [
    "np.divide(numerator, denominator).shape"
   ]
  },
  {
   "cell_type": "code",
   "execution_count": null,
   "metadata": {},
   "outputs": [],
   "source": []
  }
 ]
}