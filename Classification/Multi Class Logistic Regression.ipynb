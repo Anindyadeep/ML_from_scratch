{
 "cells": [
  {
   "cell_type": "code",
   "execution_count": 10,
   "metadata": {},
   "outputs": [
    {
     "name": "stdout",
     "output_type": "stream",
     "text": [
      "(4, 120) (1, 120)\n",
      "(4, 30) (1, 30)\n"
     ]
    }
   ],
   "source": [
    "import numpy as np\n",
    "from sklearn.datasets import make_classification, load_iris\n",
    "from sklearn.model_selection import train_test_split\n",
    "\n",
    "X, y = load_iris()['data'], load_iris()['target']\n",
    "X_train, X_test, y_train, y_test = train_test_split(X, y, test_size=0.2, shuffle=True, random_state=1234)\n",
    "\n",
    "X_train, X_test = X_train.T, X_test.T\n",
    "y_train = y_train.reshape(1, len(y_train))\n",
    "y_test = y_test.reshape(1, len(y_test))\n",
    "\n",
    "print(X_train.shape, y_train.shape)\n",
    "print(X_test.shape, y_test.shape)"
   ]
  },
  {
   "cell_type": "code",
   "execution_count": 11,
   "metadata": {},
   "outputs": [],
   "source": [
    "def OneHotEncode(y):\n",
    "    '''\n",
    "    check its shape if its in (1,m)\n",
    "    '''\n",
    "    shape=(y.shape[1], y.max()+1)\n",
    "    OHE = np.zeros(shape)\n",
    "    rows = np.arange(y.shape[1])\n",
    "    OHE[rows, y]=1\n",
    "    \n",
    "    return OHE"
   ]
  },
  {
   "cell_type": "markdown",
   "metadata": {},
   "source": [
    "### Multi Class Logistic Regression"
   ]
  },
  {
   "cell_type": "code",
   "execution_count": 21,
   "metadata": {},
   "outputs": [],
   "source": [
    "class MultClassLogisticRegression:\n",
    "    def __init__(self, X, y):\n",
    "        self.X = X\n",
    "        self.y = OneHotEncode(y).T\n",
    "        '''\n",
    "        Though in the final code, just check, whether it is\n",
    "        having One-Hot-Encoding or not\n",
    "        '''\n",
    "        self.W = np.random.randn(self.y.shape[0], self.X.shape[0])* np.sqrt(1. / self.X.shape[1])\n",
    "        self.b = np.zeros(shape=(1, self.X.shape[1]))\n",
    "    \n",
    "    def _feed_forward(self):\n",
    "        Z = np.dot(self.W, self.X) + self.b\n",
    "        return Z\n",
    "    \n",
    "    def _softmax(self, X):\n",
    "        if X.shape[0] < X.shape[1]:\n",
    "            X = X.T\n",
    "        X_exp = np.exp(X-X.max())\n",
    "        for i in range(0, X_exp.shape[0]-1):\n",
    "            X_exp[i:i+1] = X_exp[i:i+1]/X_exp[i:i+1].sum()\n",
    "        return X_exp.T\n",
    "    \n",
    "    def accuracy(self, predictions, ground_truth):\n",
    "        ground_truth = np.argmax(ground_truth, axis=0)\n",
    "        predictions = np.argmax(predictions, axis=0)\n",
    "        number_example = predictions.shape[0]\n",
    "        accuracy = (np.sum(np.round(predictions) == ground_truth)) / number_example\n",
    "        return accuracy\n",
    "    \n",
    "    def _categorical_cross_entropy(self, Y_pred):\n",
    "        m = Y_pred.shape[1]\n",
    "        return -1/m * np.sum(self.y * np.log(Y_pred))\n",
    "    \n",
    "    def _compute_grads(self, Y_pred):\n",
    "        W_grad = np.dot((Y_pred - self.y), self.X.T)\n",
    "        b_grad = np.sum((Y_pred - self.y), axis=0, keepdims = True)\n",
    "        \n",
    "        return (W_grad, b_grad)\n",
    "    \n",
    "    def predict(self, X_test):\n",
    "        Z_test = np.dot(self.W, X_test) + self.b\n",
    "        Y_pred = self._softmax(Z_test)\n",
    "        return Y_pred\n",
    "    \n",
    "    def train(self, learning_rate=0.01, epochs=100):\n",
    "        for epoch in range(epochs):\n",
    "            Z_pred = self._feed_forward()\n",
    "            Y_pred = self._softmax(Z_pred)\n",
    "            cost = self._categorical_cross_entropy(Y_pred)\n",
    "            W_grad, b_grad = self._compute_grads(Y_pred)\n",
    "\n",
    "            self.W -= learning_rate * W_grad\n",
    "            self.b -= learning_rate * b_grad\n",
    "\n",
    "            if epoch % 50 == 0:\n",
    "                print(f\"After epoch {epoch} cost: {cost}, acc: {self.accuracy(Y_pred, self.y)}\")"
   ]
  },
  {
   "cell_type": "code",
   "execution_count": 22,
   "metadata": {},
   "outputs": [],
   "source": [
    "regressor = MultClassLogisticRegression(X_train, y_train)"
   ]
  },
  {
   "cell_type": "code",
   "execution_count": 23,
   "metadata": {},
   "outputs": [
    {
     "name": "stdout",
     "output_type": "stream",
     "text": [
      "After epoch 0 cost: 1.2384330560870171, acc: 0.35\n",
      "After epoch 50 cost: 7.3093548983020975, acc: 0.65\n",
      "After epoch 100 cost: 12.23786662677649, acc: 0.6916666666666667\n",
      "After epoch 150 cost: 9.732306023174832, acc: 0.6916666666666667\n"
     ]
    }
   ],
   "source": [
    "regressor.train(learning_rate=0.01, epochs=200)"
   ]
  },
  {
   "cell_type": "code",
   "execution_count": 24,
   "metadata": {},
   "outputs": [],
   "source": [
    "# test with images in colab"
   ]
  },
  {
   "cell_type": "code",
   "execution_count": 25,
   "metadata": {},
   "outputs": [
    {
     "ename": "ValueError",
     "evalue": "operands could not be broadcast together with shapes (3,30) (1,120) ",
     "output_type": "error",
     "traceback": [
      "\u001b[0;31m---------------------------------------------------------------------------\u001b[0m",
      "\u001b[0;31mValueError\u001b[0m                                Traceback (most recent call last)",
      "\u001b[0;32m<ipython-input-25-0bee71dda1f1>\u001b[0m in \u001b[0;36m<module>\u001b[0;34m\u001b[0m\n\u001b[0;32m----> 1\u001b[0;31m \u001b[0mregressor\u001b[0m\u001b[0;34m.\u001b[0m\u001b[0mpredict\u001b[0m\u001b[0;34m(\u001b[0m\u001b[0mX_test\u001b[0m\u001b[0;34m)\u001b[0m\u001b[0;34m\u001b[0m\u001b[0;34m\u001b[0m\u001b[0m\n\u001b[0m",
      "\u001b[0;32m<ipython-input-21-692db725e32f>\u001b[0m in \u001b[0;36mpredict\u001b[0;34m(self, X_test)\u001b[0m\n\u001b[1;32m     40\u001b[0m \u001b[0;34m\u001b[0m\u001b[0m\n\u001b[1;32m     41\u001b[0m     \u001b[0;32mdef\u001b[0m \u001b[0mpredict\u001b[0m\u001b[0;34m(\u001b[0m\u001b[0mself\u001b[0m\u001b[0;34m,\u001b[0m \u001b[0mX_test\u001b[0m\u001b[0;34m)\u001b[0m\u001b[0;34m:\u001b[0m\u001b[0;34m\u001b[0m\u001b[0;34m\u001b[0m\u001b[0m\n\u001b[0;32m---> 42\u001b[0;31m         \u001b[0mZ_test\u001b[0m \u001b[0;34m=\u001b[0m \u001b[0mnp\u001b[0m\u001b[0;34m.\u001b[0m\u001b[0mdot\u001b[0m\u001b[0;34m(\u001b[0m\u001b[0mself\u001b[0m\u001b[0;34m.\u001b[0m\u001b[0mW\u001b[0m\u001b[0;34m,\u001b[0m \u001b[0mX_test\u001b[0m\u001b[0;34m)\u001b[0m \u001b[0;34m+\u001b[0m \u001b[0mself\u001b[0m\u001b[0;34m.\u001b[0m\u001b[0mb\u001b[0m\u001b[0;34m\u001b[0m\u001b[0;34m\u001b[0m\u001b[0m\n\u001b[0m\u001b[1;32m     43\u001b[0m         \u001b[0mY_pred\u001b[0m \u001b[0;34m=\u001b[0m \u001b[0mself\u001b[0m\u001b[0;34m.\u001b[0m\u001b[0m_softmax\u001b[0m\u001b[0;34m(\u001b[0m\u001b[0mZ_test\u001b[0m\u001b[0;34m)\u001b[0m\u001b[0;34m\u001b[0m\u001b[0;34m\u001b[0m\u001b[0m\n\u001b[1;32m     44\u001b[0m         \u001b[0;32mreturn\u001b[0m \u001b[0mY_pred\u001b[0m\u001b[0;34m\u001b[0m\u001b[0;34m\u001b[0m\u001b[0m\n",
      "\u001b[0;31mValueError\u001b[0m: operands could not be broadcast together with shapes (3,30) (1,120) "
     ]
    }
   ],
   "source": [
    "regressor.predict(X_test)"
   ]
  },
  {
   "cell_type": "code",
   "execution_count": null,
   "metadata": {},
   "outputs": [],
   "source": [
    "regressor.y.shape[0]"
   ]
  },
  {
   "cell_type": "code",
   "execution_count": null,
   "metadata": {},
   "outputs": [],
   "source": [
    "X_test.shape"
   ]
  },
  {
   "cell_type": "code",
   "execution_count": null,
   "metadata": {},
   "outputs": [],
   "source": []
  }
 ],
 "metadata": {
  "kernelspec": {
   "display_name": "Python 3",
   "language": "python",
   "name": "python3"
  },
  "language_info": {
   "codemirror_mode": {
    "name": "ipython",
    "version": 3
   },
   "file_extension": ".py",
   "mimetype": "text/x-python",
   "name": "python",
   "nbconvert_exporter": "python",
   "pygments_lexer": "ipython3",
   "version": "3.7.6"
  }
 },
 "nbformat": 4,
 "nbformat_minor": 4
}
