{
 "cells": [
  {
   "cell_type": "code",
   "execution_count": 1,
   "metadata": {},
   "outputs": [],
   "source": [
    "import numpy as np\n",
    "from sklearn.datasets import make_classification, load_iris\n",
    "from sklearn.model_selection import train_test_split"
   ]
  },
  {
   "cell_type": "code",
   "execution_count": 2,
   "metadata": {},
   "outputs": [],
   "source": [
    "X, y = make_classification(n_samples=600, n_features=6, n_classes = 2)\n",
    "X_train, X_test, y_train, y_test = train_test_split(X, y, test_size=0.2, shuffle=True, random_state=1234)"
   ]
  },
  {
   "cell_type": "code",
   "execution_count": 3,
   "metadata": {},
   "outputs": [],
   "source": [
    "X_train, X_test = X_train.T, X_test.T\n",
    "y_train = y_train.reshape(1, len(y_train))\n",
    "y_test = y_test.reshape(1, len(y_test))"
   ]
  },
  {
   "cell_type": "code",
   "execution_count": 4,
   "metadata": {},
   "outputs": [
    {
     "output_type": "stream",
     "name": "stdout",
     "text": [
      "(6, 480) (1, 480)\n(6, 120) (1, 120)\n"
     ]
    }
   ],
   "source": [
    "print(X_train.shape, y_train.shape)\n",
    "print(X_test.shape, y_test.shape)"
   ]
  },
  {
   "cell_type": "markdown",
   "metadata": {},
   "source": [
    "### Logistic Regression"
   ]
  },
  {
   "cell_type": "code",
   "execution_count": 5,
   "metadata": {},
   "outputs": [],
   "source": [
    "class LogisticRegression:\n",
    "    def __init__(self, X, y):\n",
    "        self.X = X\n",
    "        self.y = y\n",
    "        self.W = np.random.randn(1, self.X.shape[0])\n",
    "        self.b = np.zeros(shape=(1,1))\n",
    "        \n",
    "    def _feed_forward(self):\n",
    "        Z = np.dot(self.W, self.X) + self.b\n",
    "        return Z\n",
    "    \n",
    "    def _sigmoid(self, Z):\n",
    "        A = 1 / (1 + np.exp(-Z))\n",
    "        return A\n",
    "    \n",
    "    def _sigmoid_derivative(self, A):\n",
    "        return self._sigmoid(A) * (1-self._sigmoid(A))\n",
    "    \n",
    "    def _binary_cross_entropy(self, Y_pred):\n",
    "        m = Y_pred.shape[1]\n",
    "        cost = -1 / m * np.sum(self.y * np.log(Y_pred ) + (1 - self.y) * (np.log(1 - Y_pred)))\n",
    "        return cost\n",
    "    \n",
    "    def _compute_grads(self, Y_pred):\n",
    "        '''\n",
    "        Though it can be done in one shot as:\n",
    "        dL/dW = (Y-Y_pred) dot X.T\n",
    "        still, some times results get more accurate by doing this step computation\n",
    "        '''\n",
    "        #dL_by_dY_pred = np.divide(self.y, Y_pred) - np.divide(1-self.y, 1-Y_pred)\n",
    "        #dY_pred_by_dZ = dL_by_dY_pred * Y_pred * (1-Y_pred)\n",
    "        \n",
    "        W_grad = np.dot((Y_pred-self.y), self.X.T) #np.dot((self.y-Y_pred), self.X.T)\n",
    "        b_grad = np.sum(Y_pred-self.y, axis=1, keepdims=True)  #dY_pred_by_dZ\n",
    "        \n",
    "        return (W_grad, b_grad)\n",
    "    \n",
    "    def accuracy(self, prediction, ground_truth):\n",
    "        number_example = prediction.shape[1]\n",
    "        accuracy = (np.sum(np.round(prediction) == ground_truth)) / number_example\n",
    "        return accuracy\n",
    "    \n",
    "    def train(self, learning_rate = 0.01, epochs = 100):\n",
    "        for epoch in range(epochs):\n",
    "            Z_pred = self._feed_forward()\n",
    "            Y_pred = self._sigmoid(Z_pred)\n",
    "            \n",
    "            cost = self._binary_cross_entropy(Y_pred)\n",
    "            W_grad, b_grad = self._compute_grads(Y_pred)\n",
    "            \n",
    "            self.W -= learning_rate * W_grad\n",
    "            self.b -= learning_rate * b_grad\n",
    "            \n",
    "            if epoch % 50 == 0:\n",
    "                print(f\"After epoch {epoch} cost: {cost}, acc: {self.accuracy(Y_pred, self.y)}\")"
   ]
  },
  {
   "cell_type": "code",
   "execution_count": 6,
   "metadata": {},
   "outputs": [],
   "source": [
    "p = LogisticRegression(X_train, y_train)"
   ]
  },
  {
   "cell_type": "code",
   "execution_count": 7,
   "metadata": {},
   "outputs": [
    {
     "output_type": "stream",
     "name": "stdout",
     "text": [
      "After epoch 0 cost: 0.9849281506811725, acc: 0.41041666666666665\nAfter epoch 50 cost: 0.21860957970433412, acc: 0.93125\nAfter epoch 100 cost: 0.21860957655499821, acc: 0.93125\nAfter epoch 150 cost: 0.21860957655498894, acc: 0.93125\nAfter epoch 200 cost: 0.21860957655498897, acc: 0.93125\n"
     ]
    }
   ],
   "source": [
    "p.train(learning_rate=0.01, epochs=250)"
   ]
  },
  {
   "cell_type": "markdown",
   "metadata": {},
   "source": [
    "### SKLEARN"
   ]
  },
  {
   "cell_type": "code",
   "execution_count": 8,
   "metadata": {},
   "outputs": [],
   "source": [
    "from sklearn.linear_model import LogisticRegression"
   ]
  },
  {
   "cell_type": "code",
   "execution_count": 9,
   "metadata": {},
   "outputs": [
    {
     "output_type": "stream",
     "name": "stderr",
     "text": [
      "/home/anindya/anaconda3/envs/torch/lib/python3.9/site-packages/sklearn/utils/validation.py:63: DataConversionWarning: A column-vector y was passed when a 1d array was expected. Please change the shape of y to (n_samples, ), for example using ravel().\n  return f(*args, **kwargs)\n"
     ]
    }
   ],
   "source": [
    "regressor = LogisticRegression().fit(X_train.T, y_train.T)"
   ]
  },
  {
   "cell_type": "code",
   "execution_count": 10,
   "metadata": {},
   "outputs": [],
   "source": [
    "preds = regressor.predict(X_test.T)"
   ]
  },
  {
   "cell_type": "code",
   "execution_count": 11,
   "metadata": {},
   "outputs": [],
   "source": [
    "preds = preds.reshape(1, len(preds))"
   ]
  },
  {
   "cell_type": "code",
   "execution_count": 12,
   "metadata": {},
   "outputs": [
    {
     "output_type": "execute_result",
     "data": {
      "text/plain": [
       "0.9"
      ]
     },
     "metadata": {},
     "execution_count": 12
    }
   ],
   "source": [
    "p.accuracy(preds, y_test)"
   ]
  },
  {
   "cell_type": "code",
   "execution_count": 13,
   "metadata": {},
   "outputs": [],
   "source": [
    "a = np.array([0.11, 0.99, 0.501, 0.77]).reshape(1, 4)"
   ]
  },
  {
   "cell_type": "code",
   "execution_count": 14,
   "metadata": {},
   "outputs": [
    {
     "output_type": "execute_result",
     "data": {
      "text/plain": [
       "array([[0., 1., 1., 1.]])"
      ]
     },
     "metadata": {},
     "execution_count": 14
    }
   ],
   "source": [
    "np.round(a)"
   ]
  },
  {
   "cell_type": "code",
   "execution_count": null,
   "metadata": {},
   "outputs": [],
   "source": []
  }
 ],
 "metadata": {
  "kernelspec": {
   "name": "python3",
   "display_name": "Python 3.9.5 64-bit ('torch': conda)"
  },
  "language_info": {
   "codemirror_mode": {
    "name": "ipython",
    "version": 3
   },
   "file_extension": ".py",
   "mimetype": "text/x-python",
   "name": "python",
   "nbconvert_exporter": "python",
   "pygments_lexer": "ipython3",
   "version": "3.9.5"
  },
  "interpreter": {
   "hash": "fef537ac494cdbbc31088862472f9b6fc2de5b0853fa06b655145b81d2845540"
  }
 },
 "nbformat": 4,
 "nbformat_minor": 4
}