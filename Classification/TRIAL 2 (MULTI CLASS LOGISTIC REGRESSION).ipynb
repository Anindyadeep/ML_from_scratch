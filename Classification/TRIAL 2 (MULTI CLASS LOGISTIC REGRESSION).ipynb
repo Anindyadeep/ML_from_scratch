{
 "cells": [
  {
   "cell_type": "code",
   "execution_count": 1,
   "metadata": {},
   "outputs": [],
   "source": [
    "import numpy as np\n",
    "from sklearn.datasets import load_iris\n",
    "from sklearn.model_selection import train_test_split"
   ]
  },
  {
   "cell_type": "code",
   "execution_count": 2,
   "metadata": {},
   "outputs": [
    {
     "name": "stdout",
     "output_type": "stream",
     "text": [
      "(4, 120) (1, 120)\n",
      "(4, 30) (1, 30)\n"
     ]
    }
   ],
   "source": [
    "X, y = load_iris()['data'], load_iris()['target']\n",
    "X_train, X_test, y_train, y_test = train_test_split(X, y, test_size=0.2, shuffle=True, random_state=1234)\n",
    "\n",
    "X_train, X_test = X_train.T, X_test.T\n",
    "y_train = y_train.reshape(1,len(y_train))\n",
    "y_test = y_test.reshape(1, len(y_test))\n",
    "\n",
    "print(X_train.shape, y_train.shape)\n",
    "print(X_test.shape, y_test.shape)"
   ]
  },
  {
   "cell_type": "code",
   "execution_count": 3,
   "metadata": {},
   "outputs": [],
   "source": [
    "def OneHotEncode(y):\n",
    "    shape=(y.shape[1], y.max()+1)\n",
    "    OHE = np.zeros(shape)\n",
    "    rows = np.arange(y.shape[1])\n",
    "    OHE[rows, y]=1\n",
    "    \n",
    "    return OHE"
   ]
  },
  {
   "cell_type": "code",
   "execution_count": 4,
   "metadata": {},
   "outputs": [],
   "source": [
    "y_train = OneHotEncode(y_train)\n",
    "y_test = OneHotEncode(y_test)"
   ]
  },
  {
   "cell_type": "code",
   "execution_count": 5,
   "metadata": {},
   "outputs": [
    {
     "name": "stdout",
     "output_type": "stream",
     "text": [
      "(4, 120) (120, 3)\n",
      "(4, 30) (30, 3)\n"
     ]
    }
   ],
   "source": [
    "print(X_train.shape, y_train.shape)\n",
    "print(X_test.shape, y_test.shape)"
   ]
  },
  {
   "cell_type": "markdown",
   "metadata": {},
   "source": [
    "### Main model"
   ]
  },
  {
   "cell_type": "code",
   "execution_count": 6,
   "metadata": {},
   "outputs": [],
   "source": [
    "def softmax(Z):\n",
    "    if Z.shape[0] < Z.shape[1]:\n",
    "        Z = Z.T\n",
    "    \n",
    "    exps = np.exp(Z-Z.max())\n",
    "    sums = np.sum(exps, axis=1, keepdims=True)\n",
    "    softmax = exps/sums\n",
    "    return softmax"
   ]
  },
  {
   "cell_type": "code",
   "execution_count": 7,
   "metadata": {},
   "outputs": [],
   "source": [
    "W = np.random.randn(y_train.shape[1], X_train.shape[0])\n",
    "b = np.zeros(shape=(y_train.shape[1], 1))"
   ]
  },
  {
   "cell_type": "code",
   "execution_count": 8,
   "metadata": {},
   "outputs": [],
   "source": [
    "def feed_forward(X):\n",
    "    Z = np.dot(W, X) + b\n",
    "    A = softmax(Z)\n",
    "    return (Z, A)"
   ]
  },
  {
   "cell_type": "code",
   "execution_count": 9,
   "metadata": {},
   "outputs": [],
   "source": [
    "Z_train, A_train = feed_forward(X_train)"
   ]
  },
  {
   "cell_type": "code",
   "execution_count": 10,
   "metadata": {},
   "outputs": [
    {
     "name": "stdout",
     "output_type": "stream",
     "text": [
      "(3, 120)\n",
      "(120, 3)\n"
     ]
    }
   ],
   "source": [
    "print(Z_train.shape)\n",
    "print(A_train.shape)"
   ]
  },
  {
   "cell_type": "code",
   "execution_count": 11,
   "metadata": {},
   "outputs": [],
   "source": [
    "def log_loss(pred, gdt):\n",
    "    m = len(pred)\n",
    "    loss = -1/m * np.sum(gdt * np.log(pred), keepdims=True)\n",
    "    return loss"
   ]
  },
  {
   "cell_type": "code",
   "execution_count": 12,
   "metadata": {},
   "outputs": [
    {
     "name": "stdout",
     "output_type": "stream",
     "text": [
      "[[7.11619399]]\n"
     ]
    }
   ],
   "source": [
    "initial_loss = log_loss(A_train, y_train)\n",
    "print(initial_loss)"
   ]
  },
  {
   "cell_type": "markdown",
   "metadata": {},
   "source": [
    "### Gradient Descent"
   ]
  },
  {
   "cell_type": "code",
   "execution_count": 13,
   "metadata": {},
   "outputs": [],
   "source": [
    "def compute_grads(pred, W, b):\n",
    "    delta = pred - y_train\n",
    "    \n",
    "    W_grad = np.dot(delta.T, X_train.T)\n",
    "    b_grad = delta.T\n",
    "    return (W_grad, b_grad)"
   ]
  },
  {
   "cell_type": "code",
   "execution_count": 14,
   "metadata": {},
   "outputs": [],
   "source": [
    "epochs = 200\n",
    "learning_rate = 0.01"
   ]
  },
  {
   "cell_type": "code",
   "execution_count": 15,
   "metadata": {},
   "outputs": [
    {
     "name": "stdout",
     "output_type": "stream",
     "text": [
      "0    [[7.11619399]]\n",
      "50    [[2.34642095]]\n",
      "100    [[9.70515845]]\n",
      "150    [[0.74934144]]\n"
     ]
    }
   ],
   "source": [
    "for epoch in range (epochs):\n",
    "    Z_train, A_train = feed_forward(X_train)\n",
    "    loss = log_loss(A_train, y_train)\n",
    "    \n",
    "    delta = A_train - y_train\n",
    "    W_grad = np.dot(delta.T, X_train.T)\n",
    "    \n",
    "    W -= learning_rate * W_grad\n",
    "    #b -= learning_rate * delta.T\n",
    "    \n",
    "    if epoch% 50 == 0:\n",
    "        print(epoch, \"  \", loss)"
   ]
  },
  {
   "cell_type": "code",
   "execution_count": null,
   "metadata": {},
   "outputs": [],
   "source": []
  }
 ],
 "metadata": {
  "kernelspec": {
   "display_name": "Python 3",
   "language": "python",
   "name": "python3"
  },
  "language_info": {
   "codemirror_mode": {
    "name": "ipython",
    "version": 3
   },
   "file_extension": ".py",
   "mimetype": "text/x-python",
   "name": "python",
   "nbconvert_exporter": "python",
   "pygments_lexer": "ipython3",
   "version": "3.8.10"
  }
 },
 "nbformat": 4,
 "nbformat_minor": 4
}
