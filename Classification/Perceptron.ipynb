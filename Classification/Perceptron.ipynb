{
 "cells": [
  {
   "cell_type": "code",
   "execution_count": 38,
   "id": "80b224ed",
   "metadata": {},
   "outputs": [],
   "source": [
    "import math\n",
    "import numpy as np\n",
    "from sklearn.datasets import load_iris\n",
    "from sklearn.model_selection import train_test_split"
   ]
  },
  {
   "cell_type": "markdown",
   "id": "bea79ab3",
   "metadata": {},
   "source": [
    "### Helper functions"
   ]
  },
  {
   "cell_type": "code",
   "execution_count": 39,
   "id": "29f5232f",
   "metadata": {},
   "outputs": [],
   "source": [
    "def OneHotEncode(y):\n",
    "    \"\"\"\n",
    "    This function helps to change the labels to its corersponding \n",
    "    One Hot Encodings\n",
    "    \"\"\"\n",
    "    _, y = universal_reshape(y,y)\n",
    "\n",
    "    shape=(y.shape[1], y.max()+1)\n",
    "    OHE = np.zeros(shape)\n",
    "    rows = np.arange(y.shape[1])\n",
    "    OHE[rows, y]=1\n",
    "    \n",
    "    return OHE"
   ]
  },
  {
   "cell_type": "code",
   "execution_count": 40,
   "id": "df4dcfe6",
   "metadata": {},
   "outputs": [],
   "source": [
    "def universal_reshape(X, y):\n",
    "        '''\n",
    "        This function is for reshaping any types of X, y to the correct shapes\n",
    "        for the custom mathematical computation done here\n",
    "        '''\n",
    "        if len(X.shape) == 1:\n",
    "            X = X.reshape(1, len(X))\n",
    "\n",
    "        if X.shape[0] > X.shape[1]: \n",
    "            X = X.T\n",
    "\n",
    "        if len(y.shape) == 1:\n",
    "            y = y.reshape(1, len(y))\n",
    "            \n",
    "        if y.shape[0] > y.shape[1]:\n",
    "            y = y.T\n",
    "\n",
    "        return X, y"
   ]
  },
  {
   "cell_type": "markdown",
   "id": "b9006b68",
   "metadata": {},
   "source": [
    "### TODO:\n",
    "1. Binary Perceptron\n",
    "2. Multi class Perceptron\n",
    "3. Batch Perceptron"
   ]
  },
  {
   "cell_type": "code",
   "execution_count": 52,
   "id": "5511b7ec",
   "metadata": {},
   "outputs": [],
   "source": [
    "class BinaryPerceptron:\n",
    "    def __init__(self, X, y, weight_initializer='random', leaky_relu = False):\n",
    "        self.X, self.y = universal_reshape(X, y)\n",
    "        if weight_initializer == 'uniform':\n",
    "            limit = 1/math.sqrt(self.X_train.shape[0])\n",
    "            self.W = np.uniform(-limit, limit, (1, self.X.shape[0]))\n",
    "        else:\n",
    "            self.W = np.random.randn(1, self.X.shape[0]) * 1/math.sqrt(self.X.shape[0])\n",
    "        self.b = np.zeros(shape=(1,1))\n",
    "        self.history = {'loss': [], 'acc': []}\n",
    "        self.leaky_relu = leaky_relu\n",
    "    \n",
    "    def _feed_forward(self, X):\n",
    "        return np.dot(self.W, X) + self.b\n",
    "    \n",
    "    def _activation(self, Z):\n",
    "        _, Z = universal_reshape(Z, Z)\n",
    "        if self.leaky_relu:\n",
    "            leak = 0.001\n",
    "            Z[Z<=0] = leak * Z[Z<=0]\n",
    "            return Z\n",
    "        else:\n",
    "            Z[Z<=0] = 0\n",
    "            return Z\n",
    "        \n",
    "    def loss(self, predictions, ground_truth):\n",
    "        _, predictions = universal_reshape(predictions, predictions)\n",
    "        _, ground_truth = universal_reshape(ground_truth, ground_truth)\n",
    "        hinge_loss = np.maximum(0, 1-predictions)\n",
    "    \n",
    "    def train(self, epochs, learning_rate):\n",
    "        for epoch in range(epochs):\n",
    "            Z = self._feed_forward(self.X_train)\n",
    "            A = self._activation(Z)\n",
    "            \n",
    "    \n",
    "    def predict(self, args):\n",
    "        pass\n",
    "    \n",
    "    def accuracy(self, args):\n",
    "        pass"
   ]
  },
  {
   "cell_type": "code",
   "execution_count": 53,
   "id": "eed6a57f",
   "metadata": {},
   "outputs": [],
   "source": [
    "X, y = load_iris()['data'], load_iris()['target']"
   ]
  },
  {
   "cell_type": "code",
   "execution_count": 54,
   "id": "93aba7fd",
   "metadata": {},
   "outputs": [],
   "source": [
    "pp = BinaryPerceptron(X, y)"
   ]
  },
  {
   "cell_type": "code",
   "execution_count": 55,
   "id": "9298c33b",
   "metadata": {},
   "outputs": [],
   "source": [
    "z = pp._feed_forward(X.T)"
   ]
  },
  {
   "cell_type": "code",
   "execution_count": 56,
   "id": "6fad8c4b",
   "metadata": {},
   "outputs": [],
   "source": [
    "a = pp._activation(z)"
   ]
  },
  {
   "cell_type": "code",
   "execution_count": null,
   "id": "ebae1ee8",
   "metadata": {},
   "outputs": [],
   "source": [
    "\n"
   ]
  },
  {
   "cell_type": "code",
   "execution_count": null,
   "id": "323d7dc1",
   "metadata": {},
   "outputs": [],
   "source": []
  }
 ],
 "metadata": {
  "kernelspec": {
   "display_name": "Python 3",
   "language": "python",
   "name": "python3"
  },
  "language_info": {
   "codemirror_mode": {
    "name": "ipython",
    "version": 3
   },
   "file_extension": ".py",
   "mimetype": "text/x-python",
   "name": "python",
   "nbconvert_exporter": "python",
   "pygments_lexer": "ipython3",
   "version": "3.9.5"
  }
 },
 "nbformat": 4,
 "nbformat_minor": 5
}
