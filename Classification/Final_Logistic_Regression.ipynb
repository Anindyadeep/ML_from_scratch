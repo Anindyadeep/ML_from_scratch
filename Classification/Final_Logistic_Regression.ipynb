{
  "nbformat": 4,
  "nbformat_minor": 0,
  "metadata": {
    "colab": {
      "name": "Final Logistic Regression.ipynb",
      "provenance": []
    },
    "kernelspec": {
      "name": "python3",
      "display_name": "Python 3"
    },
    "language_info": {
      "name": "python"
    }
  },
  "cells": [
    {
      "cell_type": "code",
      "metadata": {
        "id": "pSr_rNLOFFHV"
      },
      "source": [
        "import math \n",
        "import numpy as np \n",
        "import matplotlib.pyplot as plt\n",
        "\n",
        "def OneHotEncode(y):\n",
        "    \"\"\"\n",
        "    This function helps to change the labels to its corersponding \n",
        "    One Hot Encodings\n",
        "    \"\"\"\n",
        "    _, y = universal_reshape(y,y)\n",
        "\n",
        "    shape=(y.shape[1], y.max()+1)\n",
        "    OHE = np.zeros(shape)\n",
        "    rows = np.arange(y.shape[1])\n",
        "    OHE[rows, y]=1\n",
        "    \n",
        "    return OHE\n",
        "\n",
        "def universal_reshape(X, y):\n",
        "        '''\n",
        "        This function is for reshaping any types of X, y to the correct shapes\n",
        "        for the custom mathematical computation done here\n",
        "        '''\n",
        "        if len(X.shape) == 1:\n",
        "            X = X.reshape(1, len(X))\n",
        "\n",
        "        if X.shape[0] > X.shape[1]: \n",
        "            X = X.T\n",
        "\n",
        "        if len(y.shape) == 1:\n",
        "            y = y.reshape(1, len(y))\n",
        "            \n",
        "        if y.shape[0] > y.shape[1]:\n",
        "            y = y.T\n",
        "\n",
        "        return X, y\n",
        "\n",
        "class LogisticRegression:\n",
        "\n",
        "    \"\"\"\n",
        "    Logistic Regression\n",
        "\n",
        "    parameters:\n",
        "    ----------\n",
        "\n",
        "    X : ndarray\n",
        "                The features to be fed to the model\n",
        "    y : ndarray\n",
        "                The labels to train this model (should not be one hot encoded)\n",
        "\n",
        "    weight_initializer : string\n",
        "                                1. uniform (will initialize uniformly)\n",
        "                                2. random (will initialize randomly)\n",
        "\n",
        "    epochs : int\n",
        "                The number iterations the model should be trained to get the optimal results\n",
        "    \n",
        "    learning_rate : float\n",
        "                        This will determine by how much the gradient descent would be \n",
        "                        maintained by the model for better training \n",
        "\n",
        "    \"\"\"\n",
        "    def __init__(self, X, y, weight_initializer='random'):\n",
        "        self.X_train, self.y_train = universal_reshape(X, y)\n",
        "        self.y_train = OneHotEncode(self.y_train)\n",
        "\n",
        "        if weight_initializer == 'random':\n",
        "            self.W = np.random.randn(self.y_train.shape[1], self.X_train.shape[0]) * 1/math.sqrt(self.X_train.shape[0])\n",
        "        \n",
        "        elif weight_initializer == 'uniform':\n",
        "            limit = 1/math.sqrt(self.X_train.shape[0])\n",
        "            self.W = np.random.uniform(-limit, limit, (self.y_train.shape[1], self.X_train.shape[0]))\n",
        "        else:\n",
        "            raise Exception(\"No such initialization availabel\")\n",
        "        \n",
        "        self.b = np.zeros(shape=(1,1))\n",
        "        self.history = {'loss': [], 'acc': []}\n",
        "    \n",
        "    def _softmax(self, Z):\n",
        "        if Z.shape[0] < Z.shape[1]:\n",
        "            Z = Z.T \n",
        "        \n",
        "        diff = np.max(Z, axis=1)\n",
        "        diff = diff.reshape(len(diff), 1)\n",
        "        exps = np.exp(Z-diff)\n",
        "        sums = np.sum(exps, axis=1, keepdims=True)\n",
        "        softmax = exps/sums \n",
        "        return softmax\n",
        "    \n",
        "    def _feed_forward(self):\n",
        "        Z = np.dot(self.W, self.X_train) + self.b \n",
        "        A = self._softmax(Z)\n",
        "        return (Z, A)\n",
        "    \n",
        "    def predict(self, X):\n",
        "        X, _ = universal_reshape(X, X)\n",
        "\n",
        "        Z = np.dot(self.W, X) + self.b \n",
        "        A = self._softmax(Z)\n",
        "        probabilities = np.argmax(A, axis=1)\n",
        "        return probabilities\n",
        "    \n",
        "    def log_loss(self, prediction, ground_truth):\n",
        "        m = len(prediction)\n",
        "        loss = -1/m * np.sum(ground_truth * np.log(prediction + 1e-8), keepdims=True)\n",
        "        return loss\n",
        "\n",
        "    def _accuracy(self, prediction, ground_truth):\n",
        "        prediction = np.argmax(prediction, axis=1)\n",
        "        if ground_truth.shape[0] != 1:\n",
        "            ground_truth = np.argmax(ground_truth, axis=1)\n",
        "\n",
        "        m = len(prediction)\n",
        "        return 1/m * np.sum(prediction == ground_truth)\n",
        "    \n",
        "    def accuracy(self, prediction, ground_truth):\n",
        "      ground_truth, ground_truth = universal_reshape(ground_truth, ground_truth)\n",
        "      m = len(prediction)\n",
        "      return 1/m * np.sum(prediction == ground_truth)\n",
        "\n",
        "    def _compute_grads(self, A):\n",
        "        m = len(A)\n",
        "        delta = A - self.y_train \n",
        "\n",
        "        W_grad = np.dot(delta.T, self.X_train.T)\n",
        "        b_grad = 1/m * np.sum(delta.T, keepdims=True)\n",
        "\n",
        "        return (W_grad, b_grad)\n",
        "    \n",
        "    def fit(self, epochs, learning_rate=0.001, show_history=False):\n",
        "        for epoch in range(1, epochs+1):\n",
        "          Z_train, A_train = self._feed_forward()\n",
        "          W_grad, b_grad = self._compute_grads(A_train)\n",
        "\n",
        "          loss = self.log_loss(A_train, self.y_train)\n",
        "          acc = self._accuracy(A_train, self.y_train)\n",
        "\n",
        "          self.history['loss'].append(float(loss))\n",
        "          self.history['acc'].append(float(acc))\n",
        "\n",
        "          if epoch % 50  == 0:\n",
        "              print(f\"After epoch {epoch} loss: {loss} acc: {acc}\")\n",
        "\n",
        "          self.W -= learning_rate * W_grad \n",
        "          self.b -= learning_rate * b_grad\n",
        "\n",
        "          # try to apply early stopping ... later \n",
        "\n",
        "        if show_history:\n",
        "          print('showing history') \n",
        "          fig = plt.figure(figsize=(16, 6))\n",
        "          fig.add_subplot(1,2,1)\n",
        "          plt.title('Train loss curve')\n",
        "          plt.plot(regressor.history['loss'])\n",
        "          fig.add_subplot(1,2,2)\n",
        "          plt.title('Train accuracy curve')\n",
        "          plt.plot(regressor.history['acc'])            "
      ],
      "execution_count": 217,
      "outputs": []
    },
    {
      "cell_type": "code",
      "metadata": {
        "id": "F3UkAbuPFaJQ"
      },
      "source": [
        "import numpy as np\n",
        "import pandas as pd\n",
        "from sklearn.model_selection import train_test_split"
      ],
      "execution_count": 218,
      "outputs": []
    },
    {
      "cell_type": "code",
      "metadata": {
        "id": "rGNh0MDvFlYe"
      },
      "source": [
        "data = pd.read_csv(r'/content/sample_data/mnist_train_small.csv')"
      ],
      "execution_count": 219,
      "outputs": []
    },
    {
      "cell_type": "code",
      "metadata": {
        "id": "ZDzJEbk8FnfB"
      },
      "source": [
        "features, labels = np.array(data.iloc[:,1:]), np.array(data.iloc[:, :1])"
      ],
      "execution_count": 220,
      "outputs": []
    },
    {
      "cell_type": "code",
      "metadata": {
        "id": "5HUP1oiTFyTF"
      },
      "source": [
        "X_train, X_test, y_train, y_test = train_test_split(features, labels)"
      ],
      "execution_count": 221,
      "outputs": []
    },
    {
      "cell_type": "code",
      "metadata": {
        "id": "nI04_bE5FpIy"
      },
      "source": [
        "X_train = (X_train - np.mean(X_train)) / np.std(X_train)\n",
        "X_test = (X_test - np.mean(X_test)) / np.std(X_test)"
      ],
      "execution_count": 222,
      "outputs": []
    },
    {
      "cell_type": "code",
      "metadata": {
        "id": "QIyBj9BBFwdV"
      },
      "source": [
        "regressor = LogisticRegression(X_train, y_train)"
      ],
      "execution_count": 223,
      "outputs": []
    },
    {
      "cell_type": "code",
      "metadata": {
        "colab": {
          "base_uri": "https://localhost:8080/",
          "height": 479
        },
        "id": "0RhxtYxtF5hK",
        "outputId": "5fc38a5a-05b2-4711-a099-f26d2935e5af"
      },
      "source": [
        "regressor.fit(epochs=200, learning_rate=0.03, show_history=True)"
      ],
      "execution_count": 224,
      "outputs": [
        {
          "output_type": "stream",
          "text": [
            "After epoch 50 loss: [[1.66569589]] acc: 0.9093939595973065\n",
            "After epoch 100 loss: [[1.54830044]] acc: 0.9154610307353823\n",
            "After epoch 150 loss: [[3.52021246]] acc: 0.808187212480832\n",
            "After epoch 200 loss: [[3.48302841]] acc: 0.810520701380092\n",
            "showing history\n"
          ],
          "name": "stdout"
        },
        {
          "output_type": "display_data",
          "data": {
            "image/png": "[encoded data removed]",
            "text/plain": [
              "<Figure size 1152x432 with 2 Axes>"
            ]
          },
          "metadata": {
            "tags": [],
            "needs_background": "light"
          }
        }
      ]
    },
    {
      "cell_type": "code",
      "metadata": {
        "id": "Lg_ilOK9GNRz"
      },
      "source": [
        "preds = regressor.predict(X_test)"
      ],
      "execution_count": 225,
      "outputs": []
    },
    {
      "cell_type": "code",
      "metadata": {
        "colab": {
          "base_uri": "https://localhost:8080/"
        },
        "id": "VQYgBAE9MjR0",
        "outputId": "8e48df10-8c3e-4b2c-c62b-85a25a5f96f3"
      },
      "source": [
        "regressor.accuracy(preds, y_test)"
      ],
      "execution_count": 226,
      "outputs": [
        {
          "output_type": "execute_result",
          "data": {
            "text/plain": [
              "0.7204"
            ]
          },
          "metadata": {
            "tags": []
          },
          "execution_count": 226
        }
      ]
    }
  ]
}