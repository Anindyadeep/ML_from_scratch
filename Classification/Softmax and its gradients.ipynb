{
 "cells": [
  {
   "cell_type": "markdown",
   "metadata": {},
   "source": [
    "### Softmax function"
   ]
  },
  {
   "cell_type": "code",
   "execution_count": 1,
   "metadata": {},
   "outputs": [],
   "source": [
    "import numpy as np\n",
    "import math"
   ]
  },
  {
   "cell_type": "code",
   "execution_count": 2,
   "metadata": {},
   "outputs": [],
   "source": [
    "def OneHotEncode(y):\n",
    "    shape=(y.shape[1], y.max()+1)\n",
    "    OHE = np.zeros(shape)\n",
    "    rows = np.arange(y.shape[1])\n",
    "    OHE[rows, y]=1\n",
    "    \n",
    "    return OHE.T"
   ]
  },
  {
   "cell_type": "code",
   "execution_count": 3,
   "metadata": {},
   "outputs": [
    {
     "name": "stdout",
     "output_type": "stream",
     "text": [
      "[[1 2 4]\n",
      " [2 2 6]\n",
      " [3 4 2]\n",
      " [5 2 1]\n",
      " [2 1 1]]\n"
     ]
    }
   ],
   "source": [
    "Z = np.array([[1,2,3,5,2],\n",
    "              [2,2,4,2,1],\n",
    "              [4,6,2,1,1]])\n",
    "\n",
    "Z = Z.T\n",
    "print(Z)"
   ]
  },
  {
   "cell_type": "code",
   "execution_count": 4,
   "metadata": {},
   "outputs": [],
   "source": [
    "def softmax(Z):\n",
    "    if Z.shape[0] < Z.shape[1]:\n",
    "        Z = Z.T\n",
    "    \n",
    "    exps = np.exp(Z-Z.max())\n",
    "    sums = np.sum(exps, axis=1, keepdims=True)\n",
    "    return exps/sums"
   ]
  },
  {
   "cell_type": "code",
   "execution_count": 6,
   "metadata": {},
   "outputs": [],
   "source": [
    "Y = np.array([1,2,2,1,1])\n",
    "Y = Y.reshape(1, len(Y))\n",
    "Y = OneHotEncode(Y)"
   ]
  },
  {
   "cell_type": "code",
   "execution_count": 9,
   "metadata": {},
   "outputs": [
    {
     "data": {
      "text/plain": [
       "array([[0., 1., 0.],\n",
       "       [0., 0., 1.],\n",
       "       [0., 0., 1.],\n",
       "       [0., 1., 0.],\n",
       "       [0., 1., 0.]])"
      ]
     },
     "execution_count": 9,
     "metadata": {},
     "output_type": "execute_result"
    }
   ],
   "source": [
    "Y.T"
   ]
  },
  {
   "cell_type": "code",
   "execution_count": 10,
   "metadata": {},
   "outputs": [
    {
     "data": {
      "text/plain": [
       "array([[0.04201007, 0.1141952 , 0.84379473],\n",
       "       [0.01766842, 0.01766842, 0.96466316],\n",
       "       [0.24472847, 0.66524096, 0.09003057],\n",
       "       [0.93623955, 0.04661262, 0.01714783],\n",
       "       [0.57611688, 0.21194156, 0.21194156]])"
      ]
     },
     "execution_count": 10,
     "metadata": {},
     "output_type": "execute_result"
    }
   ],
   "source": [
    "softmax(Z)"
   ]
  },
  {
   "cell_type": "code",
   "execution_count": 11,
   "metadata": {},
   "outputs": [],
   "source": [
    "diff = Y.T - softmax(Z)"
   ]
  },
  {
   "cell_type": "code",
   "execution_count": 12,
   "metadata": {},
   "outputs": [
    {
     "data": {
      "text/plain": [
       "array([[-0.04201007,  0.8858048 , -0.84379473],\n",
       "       [-0.01766842, -0.01766842,  0.03533684],\n",
       "       [-0.24472847, -0.66524096,  0.90996943],\n",
       "       [-0.93623955,  0.95338738, -0.01714783],\n",
       "       [-0.57611688,  0.78805844, -0.21194156]])"
      ]
     },
     "execution_count": 12,
     "metadata": {},
     "output_type": "execute_result"
    }
   ],
   "source": [
    "diff"
   ]
  },
  {
   "cell_type": "code",
   "execution_count": null,
   "metadata": {},
   "outputs": [],
   "source": []
  }
 ],
 "metadata": {
  "kernelspec": {
   "display_name": "Python 3",
   "language": "python",
   "name": "python3"
  },
  "language_info": {
   "codemirror_mode": {
    "name": "ipython",
    "version": 3
   },
   "file_extension": ".py",
   "mimetype": "text/x-python",
   "name": "python",
   "nbconvert_exporter": "python",
   "pygments_lexer": "ipython3",
   "version": "3.8.10"
  }
 },
 "nbformat": 4,
 "nbformat_minor": 4
}
