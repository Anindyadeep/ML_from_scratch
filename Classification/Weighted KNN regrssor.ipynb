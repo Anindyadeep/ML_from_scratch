{
 "cells": [
  {
   "cell_type": "code",
   "execution_count": 1,
   "metadata": {},
   "outputs": [],
   "source": [
    "import numpy as np\n",
    "from sklearn.datasets import load_boston\n",
    "from sklearn.model_selection import train_test_split"
   ]
  },
  {
   "cell_type": "code",
   "execution_count": 2,
   "metadata": {},
   "outputs": [],
   "source": [
    "X, y = load_boston()['data'], load_boston()['target']\n",
    "X_fixed, X_test, y_fixed, y_test = train_test_split(X, y, test_size=0.1, shuffle=True, random_state=1234)"
   ]
  },
  {
   "cell_type": "code",
   "execution_count": 3,
   "metadata": {},
   "outputs": [],
   "source": [
    "X_fixed, X_train, y_fixed, y_train = train_test_split(X_fixed, y_fixed, test_size=0.3, shuffle=True, random_state=1234)"
   ]
  },
  {
   "cell_type": "code",
   "execution_count": 4,
   "metadata": {},
   "outputs": [
    {
     "name": "stdout",
     "output_type": "stream",
     "text": [
      "(318, 13) (318,)\n",
      "(137, 13) (137,)\n",
      "(51, 13) (51,)\n"
     ]
    }
   ],
   "source": [
    "print(X_fixed.shape, y_fixed.shape)\n",
    "print(X_train.shape, y_train.shape)\n",
    "print(X_test.shape, y_test.shape)"
   ]
  },
  {
   "cell_type": "markdown",
   "metadata": {},
   "source": [
    "### REGRESSION EXPERIMENT"
   ]
  },
  {
   "cell_type": "code",
   "execution_count": 5,
   "metadata": {},
   "outputs": [],
   "source": [
    "K = 6\n",
    "epochs = 100"
   ]
  },
  {
   "cell_type": "code",
   "execution_count": 6,
   "metadata": {},
   "outputs": [],
   "source": [
    "def distance(X1, X2):\n",
    "    dist = np.sum((X1 - X2)**2, axis = 1, keepdims=True)\n",
    "    dist = np.sqrt(dist)\n",
    "    return dist"
   ]
  },
  {
   "cell_type": "code",
   "execution_count": 7,
   "metadata": {},
   "outputs": [],
   "source": [
    "def mse(predictions, ground_truth):\n",
    "    m = len(predictions)\n",
    "    loss = 1/(2*m) * (np.sum((ground_truth - predictions), axis=1, keepdims=True)**2)\n",
    "    return loss"
   ]
  },
  {
   "cell_type": "code",
   "execution_count": 8,
   "metadata": {},
   "outputs": [],
   "source": [
    "W = np.random.randn(1, K)\n",
    "b = np.zeros(shape=(1,1))"
   ]
  },
  {
   "cell_type": "code",
   "execution_count": 14,
   "metadata": {},
   "outputs": [
    {
     "name": "stdout",
     "output_type": "stream",
     "text": [
      "[-152 -109  -64  -47  -73  -87  -34  -27  -48  -77  -38  -56  -67  -82\n",
      "  -54 -102  -72  -29  -28  -31 -155  -45  -39  -68  -27  -79  -78 -103\n",
      "  -48  -50  -88  -56  -21  -48  -79 -105  -58  -93 -161  -39  -34  -64\n",
      "  -58  -32  -22  -52  -64  -72  -78  -66 -143  -72  -66  -39  -30  -30\n",
      "  -92 -117  -55  -59 -126  -51 -132  -56  -62  -19  -31   -5  -31  -69\n",
      " -118  -91   -4  -47  -39  -86  -62  -79  -98  -66  -59  -52 -167 -127\n",
      "  -57  -76  -20  -66 -106  -87  -65  -57  -56  -66  -68 -113  -64  -55\n",
      "  -31  -88  -54  -30  -25  -47  -77 -112  -58  -91  -35  -34 -119  -46\n",
      "  -45  -66  -97  -55  -67  -85  -73  -55  -28  -23  -60  -61  -65  -44\n",
      "  -67  -37  -35  -55 -124  -70  -55  -87  -57  -58  -33]\n"
     ]
    }
   ],
   "source": [
    "'''\n",
    "STEPS:\n",
    "1. calculate the distance (of k-nearest neighbors)\n",
    "2. for each x_test: we get a distance (d) belongs to (K, 1)\n",
    "                    calculate, np.dot(W, d) + b (belongs to 1,1)\n",
    "                    once we got D (d of all x_test), calculate the loss (L)\n",
    "\n",
    "3. Calculate dL/dW = dL/dD * dD/dW\n",
    "'''\n",
    "\n",
    "for epoch in range(epochs):\n",
    "    Distances = []\n",
    "    for x_train in X_train:\n",
    "        x_train = x_train.reshape(1, len(x_train))\n",
    "        distances = {}\n",
    "        for (x_fixed, yf) in zip(X_fixed, y_fixed):\n",
    "            x_fixed = x_fixed.reshape(1, len(x_fixed))\n",
    "            dist = distance(x_train, x_fixed)\n",
    "            distances[float(dist)] = yf\n",
    "            \n",
    "        k = 0\n",
    "        k_dist = []\n",
    "        for i in sorted(distances):\n",
    "            k += 1\n",
    "            k_dist.append(distances[i])\n",
    "            if k == K:\n",
    "                break\n",
    "        \n",
    "        all_distances = np.array(k_dist).reshape(K, 1)\n",
    "        y_d = np.dot(W, all_distances) + b\n",
    "        Distances.append(int(y_d))\n",
    "        \n",
    "    Distances = np.array(Distances)\n",
    "    print(Distances)\n",
    "    break"
   ]
  },
  {
   "cell_type": "code",
   "execution_count": 10,
   "metadata": {},
   "outputs": [
    {
     "name": "stdout",
     "output_type": "stream",
     "text": [
      "(1, 13)\n"
     ]
    }
   ],
   "source": [
    "for x_train in X_train:\n",
    "    x_train = x_train.reshape(1, len(x_train))\n",
    "    print(x_train.shape)\n",
    "    break"
   ]
  },
  {
   "cell_type": "code",
   "execution_count": null,
   "metadata": {},
   "outputs": [],
   "source": []
  },
  {
   "cell_type": "code",
   "execution_count": null,
   "metadata": {},
   "outputs": [],
   "source": []
  }
 ],
 "metadata": {
  "kernelspec": {
   "display_name": "Python 3",
   "language": "python",
   "name": "python3"
  },
  "language_info": {
   "codemirror_mode": {
    "name": "ipython",
    "version": 3
   },
   "file_extension": ".py",
   "mimetype": "text/x-python",
   "name": "python",
   "nbconvert_exporter": "python",
   "pygments_lexer": "ipython3",
   "version": "3.7.6"
  }
 },
 "nbformat": 4,
 "nbformat_minor": 4
}
