{
 "cells": [
  {
   "cell_type": "code",
   "execution_count": 1,
   "metadata": {},
   "outputs": [],
   "source": [
    "import numpy as np\n",
    "from sklearn.datasets import load_boston\n",
    "from sklearn.model_selection import train_test_split"
   ]
  },
  {
   "cell_type": "code",
   "execution_count": 2,
   "metadata": {},
   "outputs": [],
   "source": [
    "X, y = load_boston()['data'], load_boston()['target']\n",
    "X_fixed, X_test, Y_fixed, Y_test = train_test_split(X, y, test_size=0.1, shuffle=True, random_state=1234)"
   ]
  },
  {
   "cell_type": "code",
   "execution_count": 3,
   "metadata": {},
   "outputs": [],
   "source": [
    "X_fixed, X_train, Y_fixed, Y_train = train_test_split(X_fixed, Y_fixed, test_size=0.3, shuffle=True, random_state=1234)"
   ]
  },
  {
   "cell_type": "code",
   "execution_count": 4,
   "metadata": {},
   "outputs": [
    {
     "name": "stdout",
     "output_type": "stream",
     "text": [
      "(318, 13) (318,)\n",
      "(137, 13) (137,)\n",
      "(51, 13) (51,)\n"
     ]
    }
   ],
   "source": [
    "print(X_fixed.shape, Y_fixed.shape)\n",
    "print(X_train.shape, Y_train.shape)\n",
    "print(X_test.shape, Y_test.shape)"
   ]
  },
  {
   "cell_type": "markdown",
   "metadata": {},
   "source": [
    "### REGRESSION EXPERIMENT"
   ]
  },
  {
   "cell_type": "code",
   "execution_count": 5,
   "metadata": {},
   "outputs": [],
   "source": [
    "K = 6\n",
    "learning_rate = 0.01\n",
    "epochs = 10"
   ]
  },
  {
   "cell_type": "code",
   "execution_count": 6,
   "metadata": {},
   "outputs": [],
   "source": [
    "def distance(X1, X2):\n",
    "    dist = np.sum((X1 - X2)**2, axis = 1, keepdims=True)\n",
    "    dist = np.sqrt(dist)\n",
    "    return dist"
   ]
  },
  {
   "cell_type": "code",
   "execution_count": 7,
   "metadata": {},
   "outputs": [],
   "source": [
    "def mse(predictions, ground_truth):\n",
    "    loss = 1/K * (np.sum((ground_truth - predictions), axis=1, keepdims=True)**2)\n",
    "    return loss"
   ]
  },
  {
   "cell_type": "markdown",
   "metadata": {},
   "source": [
    "### Defining the Weights and the Bias"
   ]
  },
  {
   "cell_type": "code",
   "execution_count": 8,
   "metadata": {},
   "outputs": [],
   "source": [
    "W = np.random.randn(1, K)\n",
    "b = np.zeros(shape=(1,1))"
   ]
  },
  {
   "cell_type": "code",
   "execution_count": 9,
   "metadata": {},
   "outputs": [],
   "source": [
    "# step 1: calculate the K- nearest distances and store in ascending order\n",
    "\n",
    "for (x_train, y_train) in zip(X_train, Y_train):\n",
    "    distances = {}\n",
    "    x_train = x_train.reshape(1, len(x_train))\n",
    "    \n",
    "    for (x_fixed, y_fixed) in zip(X_fixed, Y_fixed):\n",
    "        x_fixed = x_fixed.reshape(1, len(x_fixed))\n",
    "        dist = distance(x_train, x_fixed)\n",
    "        distances[float(dist)] = y_fixed\n",
    "    \n",
    "    k = 0\n",
    "    k_dist = []\n",
    "    for i in sorted(distances):\n",
    "        k += 1\n",
    "        k_dist.append(distances[i])\n",
    "        if k == K:\n",
    "            break\n",
    "    \n",
    "    # step 2: now do the weighted sum\n",
    "    D = np.array(k_dist).reshape(K, 1)\n",
    "    predictions = 1/K * np.dot(W, D) + b\n",
    "    y_train = np.array(y_train).reshape(1,1)\n",
    "    loss = mse(y_train, predictions)\n",
    "    #print(loss)\n",
    "    \n",
    "    # grad computation\n",
    "    \n",
    "    W_grad = -2/K * np.dot((y_train - predictions), D.T)\n",
    "    b_grad = -2/K * np.sum((y_train - predictions), axis=1, keepdims=True)\n",
    "    \n",
    "    W -= learning_rate * W_grad\n",
    "    b -= learning_rate * b_grad"
   ]
  },
  {
   "cell_type": "code",
   "execution_count": 10,
   "metadata": {},
   "outputs": [],
   "source": [
    "#w = np.array([1.1, 1.0, 0.8, 0.4, 0.21, 0.1]).reshape(1, K)\n",
    "#b = 0.51\n",
    "\n",
    "predictions = []\n",
    "for x_test in X_test:\n",
    "    distances = {}\n",
    "    x_test = x_test.reshape(1, len(x_test))\n",
    "    \n",
    "    for (x_fixed, y_fixed) in zip(X_fixed, Y_fixed):\n",
    "        x_fixed = x_fixed.reshape(1, len(x_fixed))\n",
    "        dist = distance(x_test, x_fixed)\n",
    "        distances[float(dist)] = y_fixed\n",
    "    \n",
    "    k = 0\n",
    "    k_dist = []\n",
    "    for i in sorted(distances):\n",
    "        k += 1\n",
    "        k_dist.append(distances[i])\n",
    "        if k == K:\n",
    "            break\n",
    "    \n",
    "    D_test = 1/k * np.array(k_dist).reshape(K,1)\n",
    "    pred_test = np.dot(W, D) + b\n",
    "    predictions.append(float(pred_test))"
   ]
  },
  {
   "cell_type": "code",
   "execution_count": null,
   "metadata": {},
   "outputs": [],
   "source": []
  },
  {
   "cell_type": "code",
   "execution_count": null,
   "metadata": {},
   "outputs": [],
   "source": []
  }
 ],
 "metadata": {
  "kernelspec": {
   "display_name": "Python 3",
   "language": "python",
   "name": "python3"
  },
  "language_info": {
   "codemirror_mode": {
    "name": "ipython",
    "version": 3
   },
   "file_extension": ".py",
   "mimetype": "text/x-python",
   "name": "python",
   "nbconvert_exporter": "python",
   "pygments_lexer": "ipython3",
   "version": "3.9.5"
  }
 },
 "nbformat": 4,
 "nbformat_minor": 4
}
