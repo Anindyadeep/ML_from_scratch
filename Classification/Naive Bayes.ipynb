{
 "cells": [
  {
   "cell_type": "code",
   "execution_count": 1,
   "id": "56e443f2",
   "metadata": {},
   "outputs": [],
   "source": [
    "import math\n",
    "import numpy as np\n",
    "import pandas as pd\n",
    "from sklearn.model_selection import train_test_split\n",
    "from sklearn.datasets import load_iris"
   ]
  },
  {
   "cell_type": "code",
   "execution_count": 2,
   "id": "50f10cd3",
   "metadata": {},
   "outputs": [],
   "source": [
    "X_train, X_test, y_train, y_test = train_test_split(load_iris()['data'], load_iris()['target'], random_state=1234)"
   ]
  },
  {
   "cell_type": "code",
   "execution_count": 3,
   "id": "ff3311e9",
   "metadata": {},
   "outputs": [
    {
     "name": "stdout",
     "output_type": "stream",
     "text": [
      "(112, 4) (112,)\n",
      "(38, 4) (38,)\n"
     ]
    }
   ],
   "source": [
    "print(X_train.shape, y_train.shape)\n",
    "print(X_test.shape, y_test.shape)"
   ]
  },
  {
   "cell_type": "markdown",
   "id": "23b7d1c9",
   "metadata": {},
   "source": [
    "### Naive Bayes Trials"
   ]
  },
  {
   "cell_type": "code",
   "execution_count": 4,
   "id": "edffd3ec",
   "metadata": {},
   "outputs": [
    {
     "data": {
      "text/plain": [
       "array([5.04594595, 3.46216216, 1.44594595, 0.24594595])"
      ]
     },
     "execution_count": 4,
     "metadata": {},
     "output_type": "execute_result"
    }
   ],
   "source": [
    "(X_train[y_train==0]).mean(axis=0)"
   ]
  },
  {
   "cell_type": "code",
   "execution_count": 5,
   "id": "3e125671",
   "metadata": {},
   "outputs": [
    {
     "name": "stdout",
     "output_type": "stream",
     "text": [
      "[[0. 0. 0. 0.]\n",
      " [0. 0. 0. 0.]\n",
      " [0. 0. 0. 0.]]\n"
     ]
    }
   ],
   "source": [
    "mean = np.zeros((3,4))\n",
    "mean[0:0] = (X_train[y_train==0]).mean(axis=0)\n",
    "print(mean)"
   ]
  },
  {
   "cell_type": "code",
   "execution_count": 6,
   "id": "9d9de5d7",
   "metadata": {},
   "outputs": [],
   "source": [
    "prior = (X_train[0 == y_train]).shape[0] / float(3)"
   ]
  },
  {
   "cell_type": "code",
   "execution_count": 7,
   "id": "5d8bf369",
   "metadata": {},
   "outputs": [
    {
     "data": {
      "text/plain": [
       "12.333333333333334"
      ]
     },
     "execution_count": 7,
     "metadata": {},
     "output_type": "execute_result"
    }
   ],
   "source": [
    "prior"
   ]
  },
  {
   "cell_type": "code",
   "execution_count": 8,
   "id": "c3f767e9",
   "metadata": {},
   "outputs": [],
   "source": [
    "sample, count = np.unique(y_train, return_counts=True)"
   ]
  },
  {
   "cell_type": "code",
   "execution_count": 9,
   "id": "11b4c031",
   "metadata": {},
   "outputs": [],
   "source": [
    "def fit(self):prior_0 = count[0]/float(np.sum(count))"
   ]
  },
  {
   "cell_type": "markdown",
   "id": "5b00ca31",
   "metadata": {},
   "source": [
    "### Functions"
   ]
  },
  {
   "cell_type": "code",
   "execution_count": 10,
   "id": "5483f982",
   "metadata": {},
   "outputs": [],
   "source": [
    "class GaussianNaiveBayes:\n",
    "    def __init__(self, X, y):\n",
    "        self.X = X\n",
    "        self.y = y\n",
    "        self._classes, self._class_counts = np.unique(self.y, return_counts=True)\n",
    "        self._num_samples, self._num_features = self.X.shape\n",
    "        self._mean = np.zeros(shape=(len(self._classes), self._num_features))\n",
    "        self._var =  np.zeros(shape=(len(self._classes), self._num_features))\n",
    "        self._prior = np.zeros(shape=(len(self._classes)))\n",
    "        \n",
    "        for _class in self._classes:\n",
    "            X_class = self.X[self.y == _class]\n",
    "            self._mean[_class, :] = np.mean(X_class, axis=0)\n",
    "            self._var[_class, :] = np.var(X_class, axis=0)\n",
    "            self._prior[_class] = self._class_counts[_class] / float(np.sum(self._class_counts))\n",
    "        \n",
    "    def predict(self, X):\n",
    "        predictions = []\n",
    "        for x in X:\n",
    "            predictions.append(self._predict(x))\n",
    "        return np.array(predictions)\n",
    "        \n",
    "        \n",
    "    def _predict(self, x):\n",
    "        prosteriors = []\n",
    "        for idx in self._classes:\n",
    "            likelihood = np.sum(np.log(self.GaussianDensityFucntion(x, idx)))\n",
    "            prior = self._prior[idx]\n",
    "            prosterior = likelihood + prior\n",
    "            prosteriors.append(prosterior)\n",
    "        return self._classes[np.argmax(prosteriors)]\n",
    "    \n",
    "    def GaussianDensityFucntion(self,x,idx):\n",
    "        constant = np.sqrt(2 * math.pi * self._var[idx])\n",
    "        exp_numerator = -1 * ((x - self._mean[idx])**2)\n",
    "        exp_denominator = 2 * self._var[idx]\n",
    "        fraction = np.divide(exp_numerator, exp_denominator)\n",
    "        exp = np.exp(fraction)\n",
    "        return np.divide(exp, constant)"
   ]
  },
  {
   "cell_type": "code",
   "execution_count": 11,
   "id": "5e559e12",
   "metadata": {},
   "outputs": [],
   "source": [
    "gnb = GaussianNaiveBayes(X_train, y_train)"
   ]
  },
  {
   "cell_type": "code",
   "execution_count": 12,
   "id": "87042d5e",
   "metadata": {},
   "outputs": [
    {
     "data": {
      "text/plain": [
       "0.9473684210526315"
      ]
     },
     "execution_count": 12,
     "metadata": {},
     "output_type": "execute_result"
    }
   ],
   "source": [
    "np.sum(gnb.predict(X_test) == y_test)/len(y_test)"
   ]
  },
  {
   "cell_type": "code",
   "execution_count": 13,
   "id": "2bc0edbc",
   "metadata": {},
   "outputs": [],
   "source": [
    "from sklearn.naive_bayes import GaussianNB"
   ]
  },
  {
   "cell_type": "code",
   "execution_count": 14,
   "id": "fbdfe03b",
   "metadata": {},
   "outputs": [],
   "source": [
    "gbb = GaussianNB().fit(X_train, y_train)"
   ]
  },
  {
   "cell_type": "code",
   "execution_count": 15,
   "id": "6c978a9f",
   "metadata": {},
   "outputs": [
    {
     "data": {
      "text/plain": [
       "0.9473684210526315"
      ]
     },
     "execution_count": 15,
     "metadata": {},
     "output_type": "execute_result"
    }
   ],
   "source": [
    "np.sum(gbb.predict(X_test) == y_test)/len(y_test)"
   ]
  },
  {
   "cell_type": "code",
   "execution_count": 16,
   "id": "db5b6445",
   "metadata": {},
   "outputs": [],
   "source": [
    "from sklearn.datasets import make_classification"
   ]
  },
  {
   "cell_type": "code",
   "execution_count": 17,
   "id": "f51197dc",
   "metadata": {},
   "outputs": [],
   "source": [
    "X, y = make_classification(n_samples=600, n_classes=2)"
   ]
  },
  {
   "cell_type": "code",
   "execution_count": 18,
   "id": "13d1b9f3",
   "metadata": {},
   "outputs": [],
   "source": [
    "X_train, X_test, y_train, y_test = train_test_split(X, y, shuffle=True, random_state=1234)"
   ]
  },
  {
   "cell_type": "code",
   "execution_count": 19,
   "id": "23e11043",
   "metadata": {},
   "outputs": [],
   "source": [
    "gb = GaussianNaiveBayes(X_train, y_train)"
   ]
  },
  {
   "cell_type": "code",
   "execution_count": 20,
   "id": "5f75e65b",
   "metadata": {},
   "outputs": [
    {
     "data": {
      "text/plain": [
       "0.7933333333333333"
      ]
     },
     "execution_count": 20,
     "metadata": {},
     "output_type": "execute_result"
    }
   ],
   "source": [
    "np.sum(gb.predict(X_test) == y_test)/len(y_test)"
   ]
  },
  {
   "cell_type": "code",
   "execution_count": 21,
   "id": "d8dbea9d",
   "metadata": {},
   "outputs": [
    {
     "data": {
      "text/plain": [
       "0.7933333333333333"
      ]
     },
     "execution_count": 21,
     "metadata": {},
     "output_type": "execute_result"
    }
   ],
   "source": [
    "gbb = GaussianNB().fit(X_train, y_train)\n",
    "np.sum(gbb.predict(X_test) == y_test)/len(y_test)"
   ]
  }
 ],
 "metadata": {
  "kernelspec": {
   "display_name": "Python 3",
   "language": "python",
   "name": "python3"
  },
  "language_info": {
   "codemirror_mode": {
    "name": "ipython",
    "version": 3
   },
   "file_extension": ".py",
   "mimetype": "text/x-python",
   "name": "python",
   "nbconvert_exporter": "python",
   "pygments_lexer": "ipython3",
   "version": "3.9.5"
  }
 },
 "nbformat": 4,
 "nbformat_minor": 5
}