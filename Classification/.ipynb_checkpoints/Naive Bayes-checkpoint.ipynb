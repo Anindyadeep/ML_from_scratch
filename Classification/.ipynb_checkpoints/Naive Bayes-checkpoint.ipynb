{
 "cells": [
  {
   "cell_type": "code",
   "execution_count": 1,
   "id": "15dd2c60",
   "metadata": {},
   "outputs": [],
   "source": [
    "import math\n",
    "import numpy as np\n",
    "import pandas as pd\n",
    "from sklearn.model_selection import train_test_split\n",
    "from sklearn.datasets import load_iris"
   ]
  },
  {
   "cell_type": "code",
   "execution_count": 2,
   "id": "ae001329",
   "metadata": {},
   "outputs": [],
   "source": [
    "X_train, X_test, y_train, y_test = train_test_split(load_iris()['data'], load_iris()['target'], random_state=1234)"
   ]
  },
  {
   "cell_type": "code",
   "execution_count": 3,
   "id": "0c8a40a1",
   "metadata": {},
   "outputs": [
    {
     "name": "stdout",
     "output_type": "stream",
     "text": [
      "(112, 4) (112,)\n",
      "(38, 4) (38,)\n"
     ]
    }
   ],
   "source": [
    "print(X_train.shape, y_train.shape)\n",
    "print(X_test.shape, y_test.shape)"
   ]
  },
  {
   "cell_type": "markdown",
   "id": "22455daa",
   "metadata": {},
   "source": [
    "### Naive Bayes Trials"
   ]
  },
  {
   "cell_type": "markdown",
   "id": "e73c9fa1",
   "metadata": {},
   "source": [
    "### Functions"
   ]
  },
  {
   "cell_type": "code",
   "execution_count": 10,
   "id": "cdc1889c",
   "metadata": {},
   "outputs": [],
   "source": [
    "class GaussianNaiveBayes:\n",
    "    def __init__(self, X, y):\n",
    "        self.X = X\n",
    "        self.y = y\n",
    "        self._classes, self._class_counts = np.unique(self.y, return_counts=True)\n",
    "        self._num_samples, self._num_features = self.X.shape\n",
    "        self._mean = np.zeros(shape=(len(self._classes), self._num_features))\n",
    "        self._var =  np.zeros(shape=(len(self._classes), self._num_features))\n",
    "        self._prior = np.zeros(shape=(len(self._classes)))\n",
    "        \n",
    "        for _class in self._classes:\n",
    "            X_class = self.X[self.y == _class]\n",
    "            self._mean[_class, :] = np.mean(X_class, axis=0)\n",
    "            self._var[_class, :] = np.var(X_class, axis=0)\n",
    "            self._prior[_class] = self._class_counts[_class] / float(np.sum(self._class_counts))\n",
    "        \n",
    "    def predict(self, X):\n",
    "        predictions = []\n",
    "        for x in X:\n",
    "            predictions.append(self._predict(x))\n",
    "        return np.array(predictions)\n",
    "        \n",
    "        \n",
    "    def _predict(self, x):\n",
    "        prosteriors = []\n",
    "        for idx in self._classes:\n",
    "            likelihood = np.sum(np.log(self.GaussianDensityFucntion(x, idx)))\n",
    "            prior = self._prior[idx]\n",
    "            prosterior = likelihood + prior\n",
    "            prosteriors.append(prosterior)\n",
    "        return self._classes[np.argmax(prosteriors)]\n",
    "    \n",
    "    def GaussianDensityFucntion(self,x,idx):\n",
    "        constant = np.sqrt(2 * math.pi * self._var[idx])\n",
    "        exp_numerator = -1 * ((x - self._mean[idx])**2)\n",
    "        exp_denominator = 2 * self._var[idx]\n",
    "        fraction = np.divide(exp_numerator, exp_denominator)\n",
    "        exp = np.exp(fraction)\n",
    "        return np.divide(exp, constant)"
   ]
  },
  {
   "cell_type": "code",
   "execution_count": 11,
   "id": "09451cb0",
   "metadata": {},
   "outputs": [],
   "source": [
    "gnb = GaussianNaiveBayes(X_train, y_train)"
   ]
  },
  {
   "cell_type": "code",
   "execution_count": 12,
   "id": "f5a72c26",
   "metadata": {},
   "outputs": [
    {
     "data": {
      "text/plain": [
       "0.9473684210526315"
      ]
     },
     "execution_count": 12,
     "metadata": {},
     "output_type": "execute_result"
    }
   ],
   "source": [
    "np.sum(gnb.predict(X_test) == y_test)/len(y_test)"
   ]
  },
  {
   "cell_type": "code",
   "execution_count": 13,
   "id": "b66fcba5",
   "metadata": {},
   "outputs": [],
   "source": [
    "from sklearn.naive_bayes import GaussianNB"
   ]
  },
  {
   "cell_type": "code",
   "execution_count": 14,
   "id": "058c753d",
   "metadata": {},
   "outputs": [],
   "source": [
    "gbb = GaussianNB().fit(X_train, y_train)"
   ]
  },
  {
   "cell_type": "code",
   "execution_count": 15,
   "id": "d018f96c",
   "metadata": {},
   "outputs": [
    {
     "data": {
      "text/plain": [
       "0.9473684210526315"
      ]
     },
     "execution_count": 15,
     "metadata": {},
     "output_type": "execute_result"
    }
   ],
   "source": [
    "np.sum(gbb.predict(X_test) == y_test)/len(y_test)"
   ]
  },
  {
   "cell_type": "code",
   "execution_count": 16,
   "id": "00b7d748",
   "metadata": {},
   "outputs": [],
   "source": [
    "from sklearn.datasets import make_classification"
   ]
  },
  {
   "cell_type": "code",
   "execution_count": 17,
   "id": "31a16935",
   "metadata": {},
   "outputs": [],
   "source": [
    "X, y = make_classification(n_samples=600, n_classes=2)"
   ]
  },
  {
   "cell_type": "code",
   "execution_count": 18,
   "id": "185c96e8",
   "metadata": {},
   "outputs": [],
   "source": [
    "X_train, X_test, y_train, y_test = train_test_split(X, y, shuffle=True, random_state=1234)"
   ]
  },
  {
   "cell_type": "code",
   "execution_count": 19,
   "id": "a1fb85c9",
   "metadata": {},
   "outputs": [],
   "source": [
    "gb = GaussianNaiveBayes(X_train, y_train)"
   ]
  },
  {
   "cell_type": "code",
   "execution_count": 20,
   "id": "e1777898",
   "metadata": {},
   "outputs": [
    {
     "data": {
      "text/plain": [
       "0.7933333333333333"
      ]
     },
     "execution_count": 20,
     "metadata": {},
     "output_type": "execute_result"
    }
   ],
   "source": [
    "np.sum(gb.predict(X_test) == y_test)/len(y_test)"
   ]
  },
  {
   "cell_type": "code",
   "execution_count": 21,
   "id": "96ac3262",
   "metadata": {},
   "outputs": [
    {
     "data": {
      "text/plain": [
       "0.7933333333333333"
      ]
     },
     "execution_count": 21,
     "metadata": {},
     "output_type": "execute_result"
    }
   ],
   "source": [
    "gbb = GaussianNB().fit(X_train, y_train)\n",
    "np.sum(gbb.predict(X_test) == y_test)/len(y_test)"
   ]
  }
 ],
 "metadata": {
  "kernelspec": {
   "display_name": "Python 3",
   "language": "python",
   "name": "python3"
  },
  "language_info": {
   "codemirror_mode": {
    "name": "ipython",
    "version": 3
   },
   "file_extension": ".py",
   "mimetype": "text/x-python",
   "name": "python",
   "nbconvert_exporter": "python",
   "pygments_lexer": "ipython3",
   "version": "3.9.5"
  }
 },
 "nbformat": 4,
 "nbformat_minor": 5
}
