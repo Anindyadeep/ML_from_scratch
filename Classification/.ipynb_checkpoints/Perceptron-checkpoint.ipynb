{
 "cells": [
  {
   "cell_type": "code",
   "execution_count": 1,
   "id": "80b224ed",
   "metadata": {},
   "outputs": [],
   "source": [
    "import numpy as np\n",
    "from sklearn.datasets import load_iris\n",
    "from sklearn.model_selection import train_test_split"
   ]
  },
  {
   "cell_type": "markdown",
   "id": "bea79ab3",
   "metadata": {},
   "source": [
    "### Helper functions"
   ]
  },
  {
   "cell_type": "code",
   "execution_count": 2,
   "id": "29f5232f",
   "metadata": {},
   "outputs": [],
   "source": [
    "def OneHotEncode(y):\n",
    "    \"\"\"\n",
    "    This function helps to change the labels to its corersponding \n",
    "    One Hot Encodings\n",
    "    \"\"\"\n",
    "    _, y = universal_reshape(y,y)\n",
    "\n",
    "    shape=(y.shape[1], y.max()+1)\n",
    "    OHE = np.zeros(shape)\n",
    "    rows = np.arange(y.shape[1])\n",
    "    OHE[rows, y]=1\n",
    "    \n",
    "    return OHE"
   ]
  },
  {
   "cell_type": "code",
   "execution_count": 3,
   "id": "df4dcfe6",
   "metadata": {},
   "outputs": [],
   "source": [
    "def universal_reshape(X, y):\n",
    "        '''\n",
    "        This function is for reshaping any types of X, y to the correct shapes\n",
    "        for the custom mathematical computation done here\n",
    "        '''\n",
    "        if len(X.shape) == 1:\n",
    "            X = X.reshape(1, len(X))\n",
    "\n",
    "        if X.shape[0] > X.shape[1]: \n",
    "            X = X.T\n",
    "\n",
    "        if len(y.shape) == 1:\n",
    "            y = y.reshape(1, len(y))\n",
    "            \n",
    "        if y.shape[0] > y.shape[1]:\n",
    "            y = y.T\n",
    "\n",
    "        return X, y"
   ]
  },
  {
   "cell_type": "markdown",
   "id": "b9006b68",
   "metadata": {},
   "source": [
    "### TODO:\n",
    "1. Binary Perceptron\n",
    "2. Multi class Perceptron\n",
    "3. Batch Perceptron"
   ]
  },
  {
   "cell_type": "code",
   "execution_count": 4,
   "id": "5511b7ec",
   "metadata": {},
   "outputs": [],
   "source": [
    "class BinaryPerceptron:\n",
    "    def __init__(self, X, y, weight_initializer='random'):\n",
    "        self.X, self.y = universal_reshape(X, y)\n",
    "        if weight_initializer == 'uniform':\n",
    "            limit = 1/math.sqrt(self.X_train.shape[0])\n",
    "            self.W = np.uniform(-limit, limit, (1, self.X.shape[0]))\n",
    "        else:\n",
    "            self.W = np.random.randn(1, self.X.shape) * 1/math.sqrt(self.X_train.shape[0])\n",
    "        self.b = np.zeros(shape=(1,1))\n",
    "        self.history = {'loss': [], 'acc': []}\n",
    "    \n",
    "    def train(self, args):\n",
    "        pass\n",
    "    \n",
    "    def predict(self, args):\n",
    "        pass\n",
    "    \n",
    "    def accuracy(self, args):\n",
    "        pass"
   ]
  },
  {
   "cell_type": "code",
   "execution_count": null,
   "id": "c22c647e",
   "metadata": {},
   "outputs": [],
   "source": []
  }
 ],
 "metadata": {
  "kernelspec": {
   "display_name": "Python 3",
   "language": "python",
   "name": "python3"
  },
  "language_info": {
   "codemirror_mode": {
    "name": "ipython",
    "version": 3
   },
   "file_extension": ".py",
   "mimetype": "text/x-python",
   "name": "python",
   "nbconvert_exporter": "python",
   "pygments_lexer": "ipython3",
   "version": "3.9.5"
  }
 },
 "nbformat": 4,
 "nbformat_minor": 5
}
